{
 "cells": [
  {
   "cell_type": "markdown",
   "metadata": {},
   "source": [
    "Stephan Kuschel, 2020"
   ]
  },
  {
   "cell_type": "code",
   "execution_count": 1,
   "metadata": {},
   "outputs": [
    {
     "name": "stdout",
     "output_type": "stream",
     "text": [
      "v1.0+10.g13bb506.dirty\n"
     ]
    }
   ],
   "source": [
    "import generatorpipeline as gp\n",
    "import time\n",
    "import random\n",
    "print(gp.__version__)"
   ]
  },
  {
   "cell_type": "markdown",
   "metadata": {},
   "source": [
    "# The principle of generatorpipeline\n",
    "\n",
    "Python has a feature called \"generators\" for memory efficient processing. The function `start_generator` returns a generator yielding data (here a sequence of numbers) and another function `timestwo_g` is processing every individual element one by one. Lets look at the principle in pure python:"
   ]
  },
  {
   "cell_type": "code",
   "execution_count": 2,
   "metadata": {},
   "outputs": [
    {
     "data": {
      "text/plain": [
       "[0, 2, 4, 6, 8, 10, 12, 14, 16, 18]"
      ]
     },
     "execution_count": 2,
     "metadata": {},
     "output_type": "execute_result"
    }
   ],
   "source": [
    "def start_generator():\n",
    "    # create the data-stream\n",
    "    for i in range(10):\n",
    "        yield i\n",
    "\n",
    "def timestwo_g(gen):\n",
    "    # do something with each element\n",
    "    for el in gen:\n",
    "        yield el*2\n",
    "\n",
    "gen = start_generator()\n",
    "gen = timestwo_g(gen)\n",
    "list(gen)"
   ]
  },
  {
   "cell_type": "markdown",
   "metadata": {},
   "source": [
    "This is particularly useful when each element is large (e.g. an image) and the Generator has more elements than memory can hold.\n",
    "\n",
    "Of course, muliple processing steps can be defined and chained together to build a data-processing pipeline.\n",
    "\n",
    "However, the example has a severe shortcoming: The `timestwo_g` function cannot be used on a single element anymore: the call `timestwo_g(7)` will not work. That would be useful for testing, development or within another function. Further, all function which shall be used as a pipeline must always carry the `for .. in ..` statement.\n",
    "\n",
    "Using the `generatorpipeline.pipeline` decorator, a function acting on a single element will be able to accept a Generator or Iterator and return a Generator."
   ]
  },
  {
   "cell_type": "code",
   "execution_count": 3,
   "metadata": {},
   "outputs": [],
   "source": [
    "@gp.pipeline()\n",
    "def timestwo(x):\n",
    "    return x*2"
   ]
  },
  {
   "cell_type": "markdown",
   "metadata": {},
   "source": [
    "The new `timestwo` function will automatically return a generator when a Iterator or Generator is given as the argument:"
   ]
  },
  {
   "cell_type": "code",
   "execution_count": 4,
   "metadata": {},
   "outputs": [
    {
     "data": {
      "text/plain": [
       "[0, 2, 4, 6, 8, 10, 12, 14, 16, 18]"
      ]
     },
     "execution_count": 4,
     "metadata": {},
     "output_type": "execute_result"
    }
   ],
   "source": [
    "gen = iter(range(10))\n",
    "gen = timestwo(gen)\n",
    "list(gen)"
   ]
  },
  {
   "cell_type": "markdown",
   "metadata": {},
   "source": [
    "If the argument is not a Generator or Iterator, the function will act like the undecorated function:"
   ]
  },
  {
   "cell_type": "code",
   "execution_count": 5,
   "metadata": {},
   "outputs": [
    {
     "data": {
      "text/plain": [
       "14"
      ]
     },
     "execution_count": 5,
     "metadata": {},
     "output_type": "execute_result"
    }
   ],
   "source": [
    "timestwo(7)"
   ]
  },
  {
   "cell_type": "markdown",
   "metadata": {},
   "source": [
    "It is important, that the function must have only one arguemnt. `kwargs` will be forwarded to every call:"
   ]
  },
  {
   "cell_type": "code",
   "execution_count": 6,
   "metadata": {},
   "outputs": [
    {
     "data": {
      "text/plain": [
       "[0, 3, 6, 9, 12, 15, 18, 21, 24, 27]"
      ]
     },
     "execution_count": 6,
     "metadata": {},
     "output_type": "execute_result"
    }
   ],
   "source": [
    "@gp.pipeline()\n",
    "def multiply(x, y=1):\n",
    "    return x * y\n",
    "\n",
    "gen = iter(range(10))\n",
    "gen = multiply(gen, y=3)\n",
    "list(gen)"
   ]
  },
  {
   "cell_type": "markdown",
   "metadata": {},
   "source": [
    "# Multiprocessing"
   ]
  },
  {
   "cell_type": "markdown",
   "metadata": {},
   "source": [
    "As the processing is done for each element, multiple elements can be processed on multiple cores simulateously. Internally, the `multiprocessing` package is used to distribute the work:"
   ]
  },
  {
   "cell_type": "code",
   "execution_count": 7,
   "metadata": {},
   "outputs": [
    {
     "name": "stdout",
     "output_type": "stream",
     "text": [
      "CPU times: user 2.83 ms, sys: 484 µs, total: 3.31 ms\n",
      "Wall time: 2.01 s\n"
     ]
    },
    {
     "data": {
      "text/plain": [
       "[0, 3, 6, 9, 12, 15, 18, 21, 24, 27, 30, 33, 36, 39, 42, 45, 48, 51, 54, 57]"
      ]
     },
     "execution_count": 7,
     "metadata": {},
     "output_type": "execute_result"
    }
   ],
   "source": [
    "%%time\n",
    "\n",
    "@gp.pipeline()  # serial execution in the same python process\n",
    "def multiply(x, y=1):\n",
    "    time.sleep(0.1)\n",
    "    return x * y\n",
    "\n",
    "gen = iter(range(20))\n",
    "gen = multiply(gen, y=3)\n",
    "list(gen)"
   ]
  },
  {
   "cell_type": "code",
   "execution_count": 8,
   "metadata": {},
   "outputs": [
    {
     "name": "stdout",
     "output_type": "stream",
     "text": [
      "CPU times: user 24.2 ms, sys: 30 ms, total: 54.2 ms\n",
      "Wall time: 449 ms\n"
     ]
    },
    {
     "data": {
      "text/plain": [
       "[0, 3, 6, 9, 12, 15, 18, 21, 24, 27, 30, 33, 36, 39, 42, 45, 48, 51, 54, 57]"
      ]
     },
     "execution_count": 8,
     "metadata": {},
     "output_type": "execute_result"
    }
   ],
   "source": [
    "%%time\n",
    "\n",
    "@gp.pipeline(5)  # parallel execution in 5 new processes\n",
    "def multiply(x, y=1):\n",
    "    time.sleep(0.1)\n",
    "    return x * y\n",
    "\n",
    "gen = iter(range(20))\n",
    "gen = multiply(gen, y=3)\n",
    "list(gen)"
   ]
  },
  {
   "cell_type": "markdown",
   "metadata": {},
   "source": [
    "Note, that adding more processes is not always faster! The element and the result has to be transferred from and back to the main python process! Its often better to group a large task and have that distributed to minimize inter-process communication.\n",
    "\n",
    "The pipeline decorator will ensure that the order of elements does not change regardless of how many processors are used! If some elments finish fast while others don't, the `extracache` keyword can be used to enlarge the number of cached elements. Note, that this also requires more elements to be held in memory. By default there are as many elements in the cache as processors available. Default is `extracache=0`."
   ]
  },
  {
   "cell_type": "code",
   "execution_count": 9,
   "metadata": {},
   "outputs": [
    {
     "name": "stdout",
     "output_type": "stream",
     "text": [
      "CPU times: user 23.9 ms, sys: 18.8 ms, total: 42.7 ms\n",
      "Wall time: 3.52 s\n"
     ]
    },
    {
     "data": {
      "text/plain": [
       "[0, 3, 6, 9, 12, 15, 18, 21, 24, 27, 30, 33, 36, 39, 42, 45, 48, 51, 54, 57]"
      ]
     },
     "execution_count": 9,
     "metadata": {},
     "output_type": "execute_result"
    }
   ],
   "source": [
    "%%time\n",
    "random.seed(1)\n",
    "@gp.pipeline(5)  # parallel execution in 5 new processes\n",
    "def multiply(x, y=1):\n",
    "    time.sleep(random.random())\n",
    "    return x * y\n",
    "\n",
    "gen = iter(range(20))\n",
    "gen = multiply(gen, y=3)\n",
    "list(gen)"
   ]
  },
  {
   "cell_type": "code",
   "execution_count": 10,
   "metadata": {},
   "outputs": [
    {
     "name": "stdout",
     "output_type": "stream",
     "text": [
      "CPU times: user 25.3 ms, sys: 19.5 ms, total: 44.8 ms\n",
      "Wall time: 2.31 s\n"
     ]
    },
    {
     "data": {
      "text/plain": [
       "[0, 3, 6, 9, 12, 15, 18, 21, 24, 27, 30, 33, 36, 39, 42, 45, 48, 51, 54, 57]"
      ]
     },
     "execution_count": 10,
     "metadata": {},
     "output_type": "execute_result"
    }
   ],
   "source": [
    "%%time\n",
    "random.seed(1)\n",
    "@gp.pipeline(5, extracache=5)  # parallel execution in 5 new processes and 5 additional cache elements (10 elements cached total).\n",
    "def multiply(x, y=1):\n",
    "    time.sleep(random.random())\n",
    "    return x * y\n",
    "\n",
    "gen = iter(range(20))\n",
    "gen = multiply(gen, y=3)\n",
    "list(gen)"
   ]
  },
  {
   "cell_type": "markdown",
   "metadata": {},
   "source": [
    "# Discarding elements\n",
    "\n",
    "Elements will be removed from the data stream, if the function returns `None`"
   ]
  },
  {
   "cell_type": "code",
   "execution_count": 11,
   "metadata": {},
   "outputs": [
    {
     "data": {
      "text/plain": [
       "[0, 2, 4, 6, 8, 10]"
      ]
     },
     "execution_count": 11,
     "metadata": {},
     "output_type": "execute_result"
    }
   ],
   "source": [
    "@gp.pipeline()\n",
    "def filter_odd(el):\n",
    "    if el % 2:\n",
    "        return \n",
    "    return el\n",
    "\n",
    "gen = iter(range(12))\n",
    "gen = filter_odd(gen)\n",
    "list(gen)"
   ]
  },
  {
   "cell_type": "markdown",
   "metadata": {},
   "source": [
    "`None` elements can be preserved by setting the `skipNone` argument to `False`"
   ]
  },
  {
   "cell_type": "code",
   "execution_count": 12,
   "metadata": {},
   "outputs": [
    {
     "data": {
      "text/plain": [
       "[0, None, 2, None, 4, None, 6, None, 8, None, 10, None]"
      ]
     },
     "execution_count": 12,
     "metadata": {},
     "output_type": "execute_result"
    }
   ],
   "source": [
    "@gp.pipeline(skipNone=False)\n",
    "def filter_odd2(el):\n",
    "    if el % 2:\n",
    "        return \n",
    "    return el\n",
    "\n",
    "gen = iter(range(12))\n",
    "gen = filter_odd2(gen)\n",
    "list(gen)"
   ]
  },
  {
   "cell_type": "markdown",
   "metadata": {},
   "source": [
    "# Inserting Elements\n",
    "When a decorated function is a generator (i.e. yields Elements), the pipeline will first yield from that generator until it is exhausted before continuing on the main generator. In orther words: Nested generators will automatically flattened out. `None` elements will still be discarded.\n",
    "\n",
    "Warning: Inserting Elements can only be done inside the current process. Trying to use multiprocessing here, will fail!"
   ]
  },
  {
   "cell_type": "code",
   "execution_count": 13,
   "metadata": {},
   "outputs": [
    {
     "data": {
      "text/plain": [
       "[1, 2, 2, 3, 3, 3, 4, 4, 4, 4, 5, 5, 5, 5, 5, 6, 6, 6, 6, 6, 6]"
      ]
     },
     "execution_count": 13,
     "metadata": {},
     "output_type": "execute_result"
    }
   ],
   "source": [
    "@gp.pipeline()  # MUST be in curren process!\n",
    "def count(nmax):\n",
    "    for i in range(nmax):\n",
    "        yield nmax\n",
    "        \n",
    "gen = iter(range(7))\n",
    "gen = count(gen)\n",
    "list(gen)"
   ]
  },
  {
   "cell_type": "code",
   "execution_count": 14,
   "metadata": {},
   "outputs": [
    {
     "data": {
      "text/plain": [
       "Pipe_info(processed=7, yielded=21)[300.00%]"
      ]
     },
     "execution_count": 14,
     "metadata": {},
     "output_type": "execute_result"
    }
   ],
   "source": [
    "count.pipe_info()"
   ]
  },
  {
   "cell_type": "markdown",
   "metadata": {},
   "source": [
    "# Iterables and Iterators\n",
    "\n",
    "The decorated function will be called for every element in the given `Iterator`. A normal `iterable` (like a string) will NOT be iterated over. Note the difference between the following statements."
   ]
  },
  {
   "cell_type": "code",
   "execution_count": 15,
   "metadata": {},
   "outputs": [
    {
     "data": {
      "text/plain": [
       "'testtest'"
      ]
     },
     "execution_count": 15,
     "metadata": {},
     "output_type": "execute_result"
    }
   ],
   "source": [
    "timestwo('test')  # same as `'test'*2`"
   ]
  },
  {
   "cell_type": "code",
   "execution_count": 16,
   "metadata": {},
   "outputs": [
    {
     "data": {
      "text/plain": [
       "['tt', 'ee', 'ss', 'tt']"
      ]
     },
     "execution_count": 16,
     "metadata": {},
     "output_type": "execute_result"
    }
   ],
   "source": [
    "gen = timestwo(iter('test'))  # `timestwo` for every character\n",
    "list(gen)"
   ]
  },
  {
   "cell_type": "markdown",
   "metadata": {},
   "source": [
    "# Benchmark\n",
    "\n",
    "The following benchmark measures the overhead of the generators per function call. Using multiple cores will create a lot of overhead. This becomes worse if more data needs to be transferred to and from the other process."
   ]
  },
  {
   "cell_type": "code",
   "execution_count": 17,
   "metadata": {},
   "outputs": [
    {
     "name": "stdout",
     "output_type": "stream",
     "text": [
      "A normal function call. time per element: 0.14us\n"
     ]
    }
   ],
   "source": [
    "def multiply(x, y=1):\n",
    "    return x * y\n",
    "\n",
    "n = 1e6\n",
    "t0 = time.time()\n",
    "for i in range(int(n)):\n",
    "     _= multiply(i, y=3)\n",
    "t1 = time.time()\n",
    "print(f'A normal function call. time per element: {(t1-t0)/n * 1e6:.2f}us')"
   ]
  },
  {
   "cell_type": "code",
   "execution_count": 18,
   "metadata": {},
   "outputs": [
    {
     "name": "stdout",
     "output_type": "stream",
     "text": [
      "execution in CURRENT process. time per element: 1.16us\n"
     ]
    }
   ],
   "source": [
    "@gp.pipeline() \n",
    "def multiply(x, y=1):\n",
    "    return x * y\n",
    "\n",
    "n = 1e6\n",
    "t0 = time.time()\n",
    "gen = iter(range(int(n)))\n",
    "gen = multiply(gen, y=3)\n",
    "_ = list(gen)\n",
    "t1 = time.time()\n",
    "print(f'execution in CURRENT process. time per element: {(t1-t0)/n * 1e6:.2f}us')"
   ]
  },
  {
   "cell_type": "code",
   "execution_count": 19,
   "metadata": {},
   "outputs": [
    {
     "name": "stdout",
     "output_type": "stream",
     "text": [
      "execution in 1 OTHER process. time per element: 6788us\n"
     ]
    }
   ],
   "source": [
    "@gp.pipeline(1)\n",
    "def multiply(x, y=1):\n",
    "    return x * y\n",
    "\n",
    "n = 3e3\n",
    "t0 = time.time()\n",
    "gen = iter(range(int(n)))\n",
    "gen = multiply(gen, y=3)\n",
    "_ = list(gen)\n",
    "t1 = time.time()\n",
    "print(f'execution in 1 OTHER process. time per element: {(t1-t0)/n * 1e6:.0f}us')"
   ]
  },
  {
   "cell_type": "code",
   "execution_count": 20,
   "metadata": {},
   "outputs": [
    {
     "name": "stdout",
     "output_type": "stream",
     "text": [
      "execution in 4 OTHER processes. time per element: 125us\n"
     ]
    }
   ],
   "source": [
    "@gp.pipeline(4)\n",
    "def multiply(x, y=1):\n",
    "    return x * y\n",
    "\n",
    "n = 3e3\n",
    "t0 = time.time()\n",
    "gen = iter(range(int(n)))\n",
    "gen = multiply(gen, y=3)\n",
    "_ = list(gen)\n",
    "t1 = time.time()\n",
    "print(f'execution in 4 OTHER processes. time per element: {(t1-t0)/n * 1e6:.0f}us')"
   ]
  },
  {
   "cell_type": "code",
   "execution_count": null,
   "metadata": {},
   "outputs": [],
   "source": []
  }
 ],
 "metadata": {
  "kernelspec": {
   "display_name": "Python 3 (ipykernel)",
   "language": "python",
   "name": "python3"
  },
  "language_info": {
   "codemirror_mode": {
    "name": "ipython",
    "version": 3
   },
   "file_extension": ".py",
   "mimetype": "text/x-python",
   "name": "python",
   "nbconvert_exporter": "python",
   "pygments_lexer": "ipython3",
   "version": "3.9.7"
  }
 },
 "nbformat": 4,
 "nbformat_minor": 4
}
